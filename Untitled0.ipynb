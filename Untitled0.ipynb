{
  "nbformat": 4,
  "nbformat_minor": 0,
  "metadata": {
    "colab": {
      "provenance": [],
      "authorship_tag": "ABX9TyO6drDAXSwsvYu2srp0Seve",
      "include_colab_link": true
    },
    "kernelspec": {
      "name": "python3",
      "display_name": "Python 3"
    },
    "language_info": {
      "name": "python"
    }
  },
  "cells": [
    {
      "cell_type": "markdown",
      "metadata": {
        "id": "view-in-github",
        "colab_type": "text"
      },
      "source": [
        "<a href=\"https://colab.research.google.com/github/Kim101024/Primerprograma/blob/main/Untitled0.ipynb\" target=\"_parent\"><img src=\"https://colab.research.google.com/assets/colab-badge.svg\" alt=\"Open In Colab\"/></a>"
      ]
    },
    {
      "cell_type": "code",
      "execution_count": 29,
      "metadata": {
        "colab": {
          "base_uri": "https://localhost:8080/"
        },
        "id": "9oEwqB1QcF0F",
        "outputId": "3fd9e6fe-5c6c-4924-8fc4-9e1f6038d863"
      },
      "outputs": [
        {
          "output_type": "stream",
          "name": "stdout",
          "text": [
            "primeras 5 filas del archivo: \n",
            "        Fecha    Producto  Cantidad  Precio Unitario  Total\n",
            "0  2025-06-01  Producto B         1            10000  10000\n",
            "1  2025-06-01  Producto B         1            15000  15000\n",
            "2  2025-06-01  Producto C         4            10000  40000\n",
            "3  2025-06-02  Producto A         5            15000  75000\n",
            "4  2025-06-02  Producto B         4            10000  40000\n",
            "Tipos de datos: \n",
            "Fecha              object\n",
            "Producto           object\n",
            "Cantidad            int64\n",
            "Precio Unitario     int64\n",
            "Total               int64\n",
            "dtype: object\n",
            "producto mas vendido: \n",
            "     Producto  Cantidad\n",
            "1  Producto B        31\n",
            "Top 3 dias con mayor ingreso: \n",
            "       Fecha   Total\n",
            "6 2025-06-07  200000\n",
            "1 2025-06-02  195000\n",
            "3 2025-06-04  190000\n"
          ]
        }
      ],
      "source": [
        "#Objetivo: Leer, analizar y automatizar informes de ventas usando Pandas y Excel.\n",
        "\n",
        "#Cargar el archivo Excel\n",
        "\n",
        "import pandas as pd\n",
        "import matplotlib.pyplot as plt\n",
        "\n",
        "df = pd.read_excel(\"ventas_semanales.xlsx\")\n",
        "print(\"primeras 5 filas del archivo: \")\n",
        "print(df.head())\n",
        "\n",
        "#Validar tipos de datos\n",
        "\n",
        "print(\"Tipos de datos: \")\n",
        "print(df.dtypes)\n",
        "\n",
        "if not pd.api.types.is_datetime64_any_dtype(df['Fecha']):\n",
        "  df[\"Fecha\"]= pd.to_datetime(df[\"Fecha\"])\n",
        "\n",
        "#Ventas totales por producto\n",
        "\n",
        "ventas_por_producto= df.groupby(\"Fecha\")[\"Total\"]. sum().reset_index()\n",
        "\n",
        "#Promedio diario de ventas\n",
        "\n",
        "promedio_diario= df.groupby(\"Fecha\")[\"Total\"].sum().reset_index\n",
        "\n",
        "#Producto más vendido\n",
        "\n",
        "Cantidad_por_producto = df.groupby(\"Producto\")[\"Cantidad\"].sum().reset_index()\n",
        "Producto_mas_vendido = Cantidad_por_producto.sort_values(\"Cantidad\", ascending= False).head(1)\n",
        "\n",
        "print(\"producto mas vendido: \")\n",
        "print(Producto_mas_vendido)\n",
        "\n",
        "#Días con mayor ingreso\n",
        "\n",
        "ventas_por_dia= df.groupby(\"Fecha\")[\"Total\"].sum().reset_index()\n",
        "top_3_dias = ventas_por_dia.sort_values(\"Total\", ascending=False).head(3)\n",
        "\n",
        "print(\"Top 3 dias con mayor ingreso: \")\n",
        "print (top_3_dias)"
      ]
    }
  ]
}